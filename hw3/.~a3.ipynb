{
 "cells": [
  {
   "cell_type": "code",
   "execution_count": 1,
   "metadata": {},
   "outputs": [],
   "source": [
    "import numpy as np"
   ]
  },
  {
   "cell_type": "code",
   "execution_count": 45,
   "metadata": {},
   "outputs": [
    {
     "data": {
      "text/plain": [
       "array([[0.1691139 ],\n",
       "       [0.63166948],\n",
       "       [0.39462844]])"
      ]
     },
     "execution_count": 45,
     "metadata": {},
     "output_type": "execute_result"
    }
   ],
   "source": [
    "weights"
   ]
  },
  {
   "cell_type": "code",
   "execution_count": 81,
   "metadata": {},
   "outputs": [
    {
     "data": {
      "text/plain": [
       "array([[0.1691139 ],\n",
       "       [1.26333896],\n",
       "       [1.18388533]])"
      ]
     },
     "execution_count": 81,
     "metadata": {},
     "output_type": "execute_result"
    }
   ],
   "source": [
    "weights * np.array([[1],[2],[3]])"
   ]
  },
  {
   "cell_type": "code",
   "execution_count": 84,
   "metadata": {},
   "outputs": [
    {
     "data": {
      "text/plain": [
       "2.616338185267996"
      ]
     },
     "execution_count": 84,
     "metadata": {},
     "output_type": "execute_result"
    }
   ],
   "source": [
    "np.sum(weights * np.array([[1],[2],[3]]))"
   ]
  },
  {
   "cell_type": "code",
   "execution_count": 86,
   "metadata": {},
   "outputs": [
    {
     "data": {
      "text/plain": [
       "array([[0.1691139 , 0.63166948, 0.39462844]])"
      ]
     },
     "execution_count": 86,
     "metadata": {},
     "output_type": "execute_result"
    }
   ],
   "source": [
    "weights.T"
   ]
  },
  {
   "cell_type": "code",
   "execution_count": 85,
   "metadata": {},
   "outputs": [
    {
     "data": {
      "text/plain": [
       "array([[2.61633819]])"
      ]
     },
     "execution_count": 85,
     "metadata": {},
     "output_type": "execute_result"
    }
   ],
   "source": [
    "np.matmul(weights.T, np.array([[1],[2],[3]]))"
   ]
  },
  {
   "cell_type": "code",
   "execution_count": 82,
   "metadata": {},
   "outputs": [
    {
     "data": {
      "text/plain": [
       "array([[1],\n",
       "       [2],\n",
       "       [3]])"
      ]
     },
     "execution_count": 82,
     "metadata": {},
     "output_type": "execute_result"
    }
   ],
   "source": [
    "np.array([[1],[2],[3]])"
   ]
  },
  {
   "cell_type": "code",
   "execution_count": 83,
   "metadata": {},
   "outputs": [
    {
     "data": {
      "text/plain": [
       "array([[1, 2, 3]])"
      ]
     },
     "execution_count": 83,
     "metadata": {},
     "output_type": "execute_result"
    }
   ],
   "source": [
    "np.array([[1,2,3]])"
   ]
  },
  {
   "cell_type": "code",
   "execution_count": 56,
   "metadata": {},
   "outputs": [
    {
     "data": {
      "text/plain": [
       "array([[0.63166948],\n",
       "       [0.39462844]])"
      ]
     },
     "execution_count": 56,
     "metadata": {},
     "output_type": "execute_result"
    }
   ],
   "source": [
    "weights[1:]"
   ]
  },
  {
   "cell_type": "code",
   "execution_count": 69,
   "metadata": {},
   "outputs": [],
   "source": [
    "z = np.matmul(features, weights[1:]) + weights[0]"
   ]
  },
  {
   "cell_type": "code",
   "execution_count": 70,
   "metadata": {},
   "outputs": [
    {
     "data": {
      "text/plain": [
       "array([[0.2796391 ],\n",
       "       [0.6927459 ],\n",
       "       [0.73280398]])"
      ]
     },
     "execution_count": 70,
     "metadata": {},
     "output_type": "execute_result"
    }
   ],
   "source": [
    "z"
   ]
  },
  {
   "cell_type": "code",
   "execution_count": 71,
   "metadata": {},
   "outputs": [
    {
     "data": {
      "text/plain": [
       "array([[-1.27425545],\n",
       "       [-0.36709201],\n",
       "       [-0.31087703]])"
      ]
     },
     "execution_count": 71,
     "metadata": {},
     "output_type": "execute_result"
    }
   ],
   "source": [
    "np.log(z)"
   ]
  },
  {
   "cell_type": "code",
   "execution_count": 74,
   "metadata": {},
   "outputs": [
    {
     "data": {
      "text/plain": [
       "7.38905609893065"
      ]
     },
     "execution_count": 74,
     "metadata": {},
     "output_type": "execute_result"
    }
   ],
   "source": [
    "np.exp(2)"
   ]
  },
  {
   "cell_type": "code",
   "execution_count": 68,
   "metadata": {},
   "outputs": [
    {
     "data": {
      "text/plain": [
       "0.5694577422761923"
      ]
     },
     "execution_count": 68,
     "metadata": {},
     "output_type": "execute_result"
    }
   ],
   "source": [
    "1/(1+np.exp(-0.2796391))"
   ]
  },
  {
   "cell_type": "code",
   "execution_count": 79,
   "metadata": {},
   "outputs": [
    {
     "data": {
      "text/plain": [
       "3"
      ]
     },
     "execution_count": 79,
     "metadata": {},
     "output_type": "execute_result"
    }
   ],
   "source": [
    "features.shape[0]"
   ]
  },
  {
   "cell_type": "code",
   "execution_count": 98,
   "metadata": {},
   "outputs": [
    {
     "data": {
      "text/plain": [
       "array([[0.00394732, 0.04545297, 0.01816484],\n",
       "       [0.0147439 , 0.16977465, 0.06784878],\n",
       "       [0.00921109, 0.10606482, 0.04238777]])"
      ]
     },
     "execution_count": 98,
     "metadata": {},
     "output_type": "execute_result"
    }
   ],
   "source": [
    "features[:,1].T * weights"
   ]
  },
  {
   "cell_type": "code",
   "execution_count": 102,
   "metadata": {},
   "outputs": [
    {
     "data": {
      "text/plain": [
       "array([0.02334117, 0.26877134, 0.10741185])"
      ]
     },
     "execution_count": 102,
     "metadata": {},
     "output_type": "execute_result"
    }
   ],
   "source": [
    "features[:,1].T"
   ]
  },
  {
   "cell_type": "code",
   "execution_count": 111,
   "metadata": {},
   "outputs": [
    {
     "data": {
      "text/plain": [
       "array([[0.02334117],\n",
       "       [0.26877134],\n",
       "       [0.10741185]])"
      ]
     },
     "execution_count": 111,
     "metadata": {},
     "output_type": "execute_result"
    }
   ],
   "source": [
    "features[:,1].reshape(features.shape[0],1)"
   ]
  },
  {
   "cell_type": "code",
   "execution_count": 112,
   "metadata": {},
   "outputs": [],
   "source": [
    "weights1 = weights"
   ]
  },
  {
   "cell_type": "code",
   "execution_count": 113,
   "metadata": {},
   "outputs": [
    {
     "data": {
      "text/plain": [
       "array([[0.1691139 ],\n",
       "       [0.63166948],\n",
       "       [0.39462844]])"
      ]
     },
     "execution_count": 113,
     "metadata": {},
     "output_type": "execute_result"
    }
   ],
   "source": [
    "weights1"
   ]
  },
  {
   "cell_type": "code",
   "execution_count": 114,
   "metadata": {},
   "outputs": [],
   "source": [
    "gl = [1,1,-3]"
   ]
  },
  {
   "cell_type": "code",
   "execution_count": 115,
   "metadata": {},
   "outputs": [
    {
     "data": {
      "text/plain": [
       "array([[0.1591139 ],\n",
       "       [0.62166948],\n",
       "       [0.42462844]])"
      ]
     },
     "execution_count": 115,
     "metadata": {},
     "output_type": "execute_result"
    }
   ],
   "source": [
    "weights1 - 0.01 * np.array(gl).reshape((len(gl), 1))"
   ]
  },
  {
   "cell_type": "code",
   "execution_count": 20,
   "metadata": {},
   "outputs": [],
   "source": [
    "'''\n",
    "dimensions: assume\n",
    "weights: (m + 1) * 1 where m is the number of features. + 1 because we need the intercept\n",
    "features: n * m where m is number of features, n is the number of data points\n",
    "return: n * 1, each value is the prediction \n",
    "'''\n",
    "def sigmoid(weights, features):\n",
    "    z = np.matmul(features, weights[1:]) + weights[0]\n",
    "    return 1 / (1 + np.exp(-z))"
   ]
  },
  {
   "cell_type": "code",
   "execution_count": 75,
   "metadata": {},
   "outputs": [],
   "source": [
    "'''\n",
    "dimensions: assume\n",
    "weights: (m + 1) * 1 where m is the number of features. + 1 because we need the intercept\n",
    "features: n * m where m is number of features, n is the number of data points\n",
    "actual_ys: n * 1, n is the number of data points\n",
    "return: one value\n",
    "'''\n",
    "def log_likelihood(weights, features, actual_ys):\n",
    "    z = np.matmul(features, weights[1:]) + weights[0]\n",
    "    return np.sum(-np.log(1 + np.exp(z))) + np.matmul(actual_ys.T, z)"
   ]
  },
  {
   "cell_type": "code",
   "execution_count": null,
   "metadata": {},
   "outputs": [],
   "source": [
    "'''\n",
    "dimensions: assume\n",
    "weights: (m + 1) * 1 where m is the number of features. + 1 because we need the intercept\n",
    "features: n * m where m is number of features, n is the number of data points\n",
    "actual_ys: n * 1, n is the number of data points\n",
    "'''\n",
    "def learn_weights(actual_ys, features, num_iterations, learning_rate):\n",
    "    n_feats = features.shape[0]\n",
    "    # initialize weights\n",
    "    weights = np.zeros((n_feats + 1, 1))\n",
    "    \n",
    "    for i in range(num_iterations):\n",
    "        dldb = []\n",
    "        # calculate gradients for all weights\n",
    "        dldb0 = np.sum(actual_ys - sigmoid(weights, features))\n",
    "        dldb.append(dldb0)\n",
    "        for j in range(1, len(weights)):\n",
    "            dldbj = np.sum((actual_ys - sigmoid(weights, features)) * features[:, j - 1].reshape((features.shape[0], 1)))\n",
    "            dldb.append(dldbj)\n",
    "        \n",
    "        # update weights\n",
    "        weights = weights - learning_rate * np.array(gl).reshape((len(gl), 1))\n",
    "        \n",
    "        if i%1000==0:\n",
    "            print(log_likelihood(weights,features,actual_ys))\n",
    "    \n",
    "    return weights\n",
    "\n",
    "# Use the following hyperparameters:\n",
    "# num_iterations = 10000\n",
    "# learning_rate = 0.00005\n",
    "# initial weights should be set to 0"
   ]
  }
 ],
 "metadata": {
  "kernelspec": {
   "display_name": "Python 3",
   "language": "python",
   "name": "python3"
  },
  "language_info": {
   "codemirror_mode": {
    "name": "ipython",
    "version": 3
   },
   "file_extension": ".py",
   "mimetype": "text/x-python",
   "name": "python",
   "nbconvert_exporter": "python",
   "pygments_lexer": "ipython3",
   "version": "3.7.1"
  }
 },
 "nbformat": 4,
 "nbformat_minor": 4
}
