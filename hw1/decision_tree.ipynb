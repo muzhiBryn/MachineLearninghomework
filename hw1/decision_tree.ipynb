{
 "cells": [
  {
   "cell_type": "code",
   "execution_count": 27,
   "metadata": {
    "collapsed": true,
    "pycharm": {
     "name": "#%%\n",
     "is_executing": false
    }
   },
   "outputs": [],
   "source": [
    "import pandas as pd\n",
    "import random\n"
   ]
  },
  {
   "cell_type": "markdown",
   "source": [
    "My own classifer\n",
    "\n",
    "Please see \"decision_tree.py\"\n",
    "\n",
    "I did not put it here because it is very slow!!\n",
    "\n",
    "Takes about 10 minutes to run\n",
    "\n",
    "\n",
    "        "
   ],
   "metadata": {
    "collapsed": false
   }
  },
  {
   "cell_type": "markdown",
   "source": [
    "Using sklean"
   ],
   "metadata": {
    "collapsed": false
   }
  },
  {
   "cell_type": "code",
   "execution_count": 34,
   "outputs": [
    {
     "name": "stdout",
     "text": [
      "The cv scores from sklearn is [0.81596452 0.77944325 0.78431373 0.79385965 0.82729211 0.76759062\n 0.79481641 0.84140969 0.79049676 0.79744136] and the average is 0.7992628113105178\n"
     ],
     "output_type": "stream"
    }
   ],
   "source": [
    "from sklearn.tree import DecisionTreeClassifier\n",
    "from sklearn.ensemble import RandomForestClassifier\n",
    "from sklearn.model_selection import cross_val_score\n",
    "train_data = pd.read_csv(\"hw1_trainingset.csv\")\n",
    "test_data = pd.read_csv(\"hw1_testset.csv\")\n",
    "\n",
    "train_data = train_data.sample(frac=1, random_state=42)\n",
    "trainX = train_data.iloc[:, : -1]\n",
    "trainY = train_data.iloc[:, -1]\n",
    "\n",
    "clf = DecisionTreeClassifier()\n",
    "clf.fit(trainX, trainY)\n",
    "\n",
    "testX = test_data\n",
    "predicted_y = clf.predict(testX)\n",
    "test_data['Label'] = predicted_y\n",
    "test_data.to_csv(\"sklearn_decision_tree_predict_result.csv\")\n",
    "\n",
    "scores = cross_val_score(DecisionTreeClassifier(), trainX, trainY,\n",
    "                scoring=\"f1\",\n",
    "                cv=10)\n",
    "\n",
    "print(\"The cv scores from sklearn is \" + str(scores) + \" and the average is \" \n",
    "      + str(sum(scores) / len(scores)) )\n"
   ],
   "metadata": {
    "collapsed": false,
    "pycharm": {
     "name": "#%%\n",
     "is_executing": false
    }
   }
  },
  {
   "cell_type": "code",
   "execution_count": null,
   "outputs": [],
   "source": [],
   "metadata": {
    "collapsed": false,
    "pycharm": {
     "name": "#%%\n"
    }
   }
  }
 ],
 "metadata": {
  "kernelspec": {
   "display_name": "Python 3",
   "language": "python",
   "name": "python3"
  },
  "language_info": {
   "codemirror_mode": {
    "name": "ipython",
    "version": 2
   },
   "file_extension": ".py",
   "mimetype": "text/x-python",
   "name": "python",
   "nbconvert_exporter": "python",
   "pygments_lexer": "ipython2",
   "version": "2.7.6"
  },
  "pycharm": {
   "stem_cell": {
    "cell_type": "raw",
    "source": [],
    "metadata": {
     "collapsed": false
    }
   }
  }
 },
 "nbformat": 4,
 "nbformat_minor": 0
}