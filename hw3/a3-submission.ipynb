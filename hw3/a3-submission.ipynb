{
 "cells": [
  {
   "cell_type": "code",
   "execution_count": 8,
   "metadata": {},
   "outputs": [],
   "source": [
    "import numpy as np\n",
    "import pandas as pd\n",
    "import matplotlib.pyplot as plt\n",
    "%matplotlib inline "
   ]
  },
  {
   "cell_type": "code",
   "execution_count": 9,
   "metadata": {},
   "outputs": [],
   "source": [
    "'''\n",
    "dimensions: assume\n",
    "weights: (m + 1) * 1 where m is the number of features. + 1 because we need the intercept\n",
    "features: n * m where m is number of features, n is the number of data points\n",
    "return: n * 1, each value is the prediction \n",
    "'''\n",
    "def sigmoid(weights, features):\n",
    "    z = np.matmul(features, weights[1:]) + weights[0]\n",
    "    return 1 / (1 + np.exp(-z))"
   ]
  },
  {
   "cell_type": "code",
   "execution_count": 10,
   "metadata": {},
   "outputs": [],
   "source": [
    "'''\n",
    "dimensions: assume\n",
    "weights: (m + 1) * 1 where m is the number of features. + 1 because we need the intercept\n",
    "features: n * m where m is number of features, n is the number of data points\n",
    "actual_ys: n * 1, n is the number of data points\n",
    "return: one value\n",
    "'''\n",
    "def log_likelihood(weights, features, actual_ys):\n",
    "    z = np.matmul(features, weights[1:]) + weights[0]\n",
    "    return np.sum(-np.log(1 + np.exp(z))) + np.matmul(actual_ys.T, z)[0, 0]"
   ]
  },
  {
   "cell_type": "code",
   "execution_count": 11,
   "metadata": {},
   "outputs": [],
   "source": [
    "'''\n",
    "dimensions: assume\n",
    "weights: (m + 1) * 1 where m is the number of features. + 1 because we need the intercept\n",
    "features: n * m where m is number of features, n is the number of data points\n",
    "actual_ys: n * 1, n is the number of data points\n",
    "'''\n",
    "def learn_weights(actual_ys, features, num_iterations, learning_rate):\n",
    "    n_feats = features.shape[1]\n",
    "    # initialize weights\n",
    "    weights = np.zeros((n_feats + 1, 1))\n",
    "    \n",
    "    loglikelihood_outputs = []\n",
    "    \n",
    "    for i in range(num_iterations):\n",
    "        dldb = []\n",
    "        # calculate gradients for all weights\n",
    "        dldb0 = np.sum(actual_ys - sigmoid(weights, features))\n",
    "        dldb.append(dldb0)\n",
    "        for j in range(1, len(weights)):\n",
    "            dldbj = np.sum((actual_ys - sigmoid(weights, features)) * features[:, j - 1].reshape((features.shape[0], 1)))\n",
    "            dldb.append(dldbj)\n",
    "        \n",
    "        # update weights\n",
    "        weights = weights + learning_rate * np.array(dldb).reshape((len(dldb), 1))\n",
    "        \n",
    "        if i%1000==0:\n",
    "            loglikelihood_outputs.append(log_likelihood(weights,features,actual_ys))\n",
    "    \n",
    "    print(1000 * (np.array(range(len(loglikelihood_outputs))) + 1))\n",
    "    print(loglikelihood_outputs)\n",
    "    plt.plot(1000 * (np.array(range(len(loglikelihood_outputs))) + 1), loglikelihood_outputs)\n",
    "    plt.show()\n",
    "    return weights\n",
    "\n",
    "# Use the following hyperparameters:\n",
    "# num_iterations = 10000\n",
    "# learning_rate = 0.00005\n",
    "# initial weights should be set to 0"
   ]
  },
  {
   "cell_type": "code",
   "execution_count": 12,
   "metadata": {},
   "outputs": [
    {
     "name": "stdout",
     "output_type": "stream",
     "text": [
      "[ 1000  2000  3000  4000  5000  6000  7000  8000  9000 10000]\n",
      "[-4346.264779679941, -240.69185693049076, -194.51807678965997, -176.73134619223856, -167.1456940883363, -161.13864040520275, -157.03212592270575, -154.0607056959998, -151.82264647322882, -150.08589936235512]\n"
     ]
    },
    {
     "data": {
      "image/png": "[encoded data removed]",
      "text/plain": [
       "<Figure size 432x288 with 1 Axes>"
      ]
     },
     "metadata": {
      "needs_background": "light"
     },
     "output_type": "display_data"
    }
   ],
   "source": [
    "data = pd.read_csv('hw3_data.csv')\n",
    "weights = learn_weights(data['y'].to_numpy().reshape((len(data['y']), 1)), data[['x1', 'x2']].to_numpy(), 10000, 0.00005)"
   ]
  },
  {
   "cell_type": "markdown",
   "metadata": {},
   "source": [
    "# Bonus!!"
   ]
  },
  {
   "cell_type": "code",
   "execution_count": 13,
   "metadata": {},
   "outputs": [],
   "source": [
    "class MyLogisticRegressionClassifier:\n",
    "    def __init__(self, weights): \n",
    "        self.weights = weights\n",
    "    \n",
    "    '''\n",
    "    features: n * 2\n",
    "    T: threshold\n",
    "    '''\n",
    "    def predict(self, features, T=0.5):\n",
    "        print(weights.shape)\n",
    "        print(type(features))\n",
    "        print(features.shape)\n",
    "        possibility_y_is_1 = sigmoid(weights, features)\n",
    "        return (possibility_y_is_1 > T).astype(int)"
   ]
  },
  {
   "cell_type": "markdown",
   "metadata": {},
   "source": [
    "## Test my classifier"
   ]
  },
  {
   "cell_type": "code",
   "execution_count": 14,
   "metadata": {},
   "outputs": [
    {
     "name": "stdout",
     "output_type": "stream",
     "text": [
      "(3, 1)\n",
      "<class 'numpy.ndarray'>\n",
      "(10000, 2)\n",
      "The accuracy in training set is:\n",
      "              precision    recall  f1-score   support\n",
      "\n",
      "     class 0       1.00      0.99      0.99      5000\n",
      "     class 1       0.99      1.00      0.99      5000\n",
      "\n",
      "    accuracy                           0.99     10000\n",
      "   macro avg       0.99      0.99      0.99     10000\n",
      "weighted avg       0.99      0.99      0.99     10000\n",
      "\n"
     ]
    }
   ],
   "source": [
    "clf = MyLogisticRegressionClassifier(weights)\n",
    "predicted = clf.predict(data[['x1', 'x2']].to_numpy(), 0.5)\n",
    "\n",
    "from sklearn.metrics import classification_report\n",
    "y_true = data['y']\n",
    "y_pred = predicted\n",
    "target_names = ['class 0', 'class 1']\n",
    "print(\"The accuracy in training set is:\")\n",
    "\n",
    "print(classification_report(y_true, y_pred, target_names=target_names))"
   ]
  },
  {
   "cell_type": "code",
   "execution_count": null,
   "metadata": {},
   "outputs": [],
   "source": []
  },
  {
   "cell_type": "code",
   "execution_count": null,
   "metadata": {},
   "outputs": [],
   "source": []
  }
 ],
 "metadata": {
  "kernelspec": {
   "display_name": "Python 3",
   "language": "python",
   "name": "python3"
  },
  "language_info": {
   "codemirror_mode": {
    "name": "ipython",
    "version": 3
   },
   "file_extension": ".py",
   "mimetype": "text/x-python",
   "name": "python",
   "nbconvert_exporter": "python",
   "pygments_lexer": "ipython3",
   "version": "3.7.3"
  },
  "pycharm": {
   "stem_cell": {
    "cell_type": "raw",
    "source": [],
    "metadata": {
     "collapsed": false
    }
   }
  }
 },
 "nbformat": 4,
 "nbformat_minor": 4
}