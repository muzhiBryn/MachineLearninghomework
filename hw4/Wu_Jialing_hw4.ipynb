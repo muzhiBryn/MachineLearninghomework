{
 "cells": [
  {
   "cell_type": "code",
   "execution_count": 18,
   "metadata": {},
   "outputs": [],
   "source": [
    "from statistics import mean , median\n",
    "import pandas as pd\n",
    "import numpy as np\n",
    "import random\n",
    "import matplotlib.pyplot as plt\n",
    "\n",
    "\n",
    "def mean_func(points):\n",
    "    return mean([p[0] for p in points]), mean([p[1] for p in points])\n",
    "\n",
    "\n",
    "def median_func(points):\n",
    "    return median([p[0] for p in points]), median([p[1] for p in points])\n",
    "\n",
    "\n",
    "# manhattan-distance\n",
    "def distance_func(p1, p2):\n",
    "    '''\n",
    "    :param p1: point 1\n",
    "    :param p2: point 2\n",
    "    :return: manhattan-distance\n",
    "    '''\n",
    "    return abs(p2[0] - p1[0]) + abs(p2[1] - p1[1])\n",
    "\n",
    "\n",
    "def K_means_family(datapoints, K, centroid_method, initialization_method, max_iterations):\n",
    "    '''\n",
    "    :param datapoints:\n",
    "    :param K:\n",
    "    :param centroid_method: Means or Median\n",
    "    :param initialization_method: Random Split Initialization or Random Seed Selection Method\n",
    "    if the parameter is None, use Random Split Initialization\n",
    "    else use what passed in as Random Seed\n",
    "    :param max_iterations: max number of iterations to run the algorithm.\n",
    "    :return:\n",
    "    '''\n",
    "\n",
    "    points = datapoints.tolist()\n",
    "\n",
    "    if centroid_method == \"Means\":\n",
    "        centroid_func = mean_func\n",
    "    elif centroid_method == \"Median\":\n",
    "        centroid_func = median_func\n",
    "\n",
    "    if initialization_method is None:\n",
    "        random.shuffle(points)\n",
    "    else: #use what passed in as Random Seed\n",
    "        random.Random(initialization_method).shuffle(points)\n",
    "\n",
    "    n = len(points)\n",
    "\n",
    "    def rearrange(rule):\n",
    "        clusters = []\n",
    "        for _ in range(K):\n",
    "            clusters.append([])\n",
    "\n",
    "        for j in range(n):\n",
    "            if rule[j][1] == -1:\n",
    "                clusters[j % K].append(points[j])\n",
    "            else:\n",
    "                clusters[rule[j][1]].append(points[j])\n",
    "        return clusters\n",
    "\n",
    "    # use a list [[min distance, cluster id]] to record which cluster should each point goes to\n",
    "    arrange_rule = []  # at first there is no clusters\n",
    "    for _ in range(n):\n",
    "        arrange_rule.append([float(\"inf\"), -1])\n",
    "    clusters = points.copy()\n",
    "\n",
    "    iter_counts = 0\n",
    "    while iter_counts <  max_iterations:\n",
    "        # rearrange clusters according to rules\n",
    "        new_clusters = rearrange(arrange_rule)\n",
    "        if new_clusters == clusters:\n",
    "            break\n",
    "        iter_counts += 1\n",
    "\n",
    "        clusters = new_clusters\n",
    "\n",
    "        for i in range(K):\n",
    "            # calculate center\n",
    "            if (len(clusters[i]) > 0):\n",
    "                c_i = centroid_func(clusters[i])\n",
    "                # calculate the distance that each point to this center\n",
    "                for j in range(n):\n",
    "                    dis = distance_func(points[j], c_i)\n",
    "                    # update rule if seeing smaller distance to other clusters\n",
    "                    if dis < arrange_rule[j][0]:\n",
    "                        arrange_rule[j][0] = dis\n",
    "                        arrange_rule[j][1] = i\n",
    "    return [sorted(c) for c in clusters]\n",
    "\n",
    "\n"
   ]
  },
  {
   "cell_type": "code",
   "execution_count": 19,
   "metadata": {},
   "outputs": [],
   "source": [
    "def Silhouette(list_of_clusters):\n",
    "    def simple_score_func(ax, bx):\n",
    "        return (bx - ax) / max(ax, bx)\n",
    "\n",
    "    clusters = list_of_clusters\n",
    "    print(\"num of clusters: \", len(clusters))\n",
    "\n",
    "    sum_score = 0\n",
    "    # for each point x\n",
    "    for i in range(len(clusters)):\n",
    "        print(\"num of points in clusters: \", len(clusters[i]))\n",
    "        for j in range(len(clusters[i])):\n",
    "            # now cluster[i][j] is x\n",
    "            # a(x): average distance within a cluster\n",
    "            if len(clusters[i]) > 1:\n",
    "                a_x = mean([distance_func(clusters[i][j], clusters[i][t]) for t in range(len(clusters[i])) if t != j])\n",
    "            else:\n",
    "                a_x = 0\n",
    "            # b(x): min distance to other clusters\n",
    "            bx_candidates = []\n",
    "            for k in range(len(clusters)):\n",
    "                if k != i:  # other clusters\n",
    "                    if len(clusters[k]) > 1:\n",
    "                        bx_candidates.append(\n",
    "                            mean([distance_func(clusters[i][j], clusters[k][t])\n",
    "                                  for t in range(len(clusters[k]))]))\n",
    "\n",
    "            b_x= min(bx_candidates)\n",
    "            sum_score += simple_score_func(a_x, b_x)\n",
    "    return sum_score\n"
   ]
  },
  {
   "cell_type": "code",
   "execution_count": 20,
   "metadata": {},
   "outputs": [
    {
     "data": {
      "image/png": "[encoded data removed]",
      "text/plain": [
       "<Figure size 432x288 with 1 Axes>"
      ]
     },
     "metadata": {
      "needs_background": "light"
     },
     "output_type": "display_data"
    },
    {
     "data": {
      "image/png": "[encoded data removed]",
      "text/plain": [
       "<Figure size 432x288 with 1 Axes>"
      ]
     },
     "metadata": {
      "needs_background": "light"
     },
     "output_type": "display_data"
    },
    {
     "data": {
      "image/png": "[encoded data removed]",
      "text/plain": [
       "<Figure size 432x288 with 1 Axes>"
      ]
     },
     "metadata": {
      "needs_background": "light"
     },
     "output_type": "display_data"
    },
    {
     "data": {
      "image/png": "[encoded data removed]",
      "text/plain": [
       "<Figure size 432x288 with 1 Axes>"
      ]
     },
     "metadata": {
      "needs_background": "light"
     },
     "output_type": "display_data"
    },
    {
     "name": "stdout",
     "output_type": "stream",
     "text": [
      "num of clusters:  2\n",
      "num of points in clusters:  12\n",
      "num of points in clusters:  28\n",
      "num of clusters:  3\n",
      "num of points in clusters:  9\n",
      "num of points in clusters:  11\n",
      "num of points in clusters:  20\n",
      "num of clusters:  4\n",
      "num of points in clusters:  14\n",
      "num of points in clusters:  14\n",
      "num of points in clusters:  2\n",
      "num of points in clusters:  10\n",
      "num of clusters:  5\n",
      "num of points in clusters:  0\n",
      "num of points in clusters:  5\n",
      "num of points in clusters:  11\n",
      "num of points in clusters:  15\n",
      "num of points in clusters:  9\n",
      "silhouette score using k = 2:  27.970714200587132\n",
      "silhouette score using k = 3:  18.7055055463709\n",
      "silhouette score using k = 4:  22.45801210324862\n",
      "silhouette score using k = 5:  16.30372560827377\n",
      "Best silhouette score:  27.970714200587132\n",
      "Best K is:  2\n"
     ]
    }
   ],
   "source": [
    "data = pd.read_csv(\"hw4_data1.csv\")\n",
    "#!!! None means Random Split Initialization. If you pass in an integer, it will be used as random seed\n",
    "clst1 = K_means_family(data.to_numpy(), K=2, centroid_method=\"Means\", initialization_method=None, max_iterations=100)\n",
    "plt.scatter([item[0] for item in clst1[0]], [item[1] for item in clst1[0]], color=\"red\")\n",
    "plt.scatter([item[0] for item in clst1[1]], [item[1] for item in clst1[1]], color=\"blue\")\n",
    "plt.show()\n",
    "\n",
    "clst2 = K_means_family(data.to_numpy(), K=3, centroid_method=\"Means\", initialization_method=None, max_iterations=100)\n",
    "plt.scatter([item[0] for item in clst2[0]], [item[1] for item in clst2[0]], color=\"red\")\n",
    "plt.scatter([item[0] for item in clst2[1]], [item[1] for item in clst2[1]], color=\"blue\")\n",
    "plt.scatter([item[0] for item in clst2[2]], [item[1] for item in clst2[2]], color=\"green\")\n",
    "plt.show()\n",
    "\n",
    "clst3 = K_means_family(data.to_numpy(), K=4, centroid_method=\"Means\", initialization_method=None, max_iterations=100)\n",
    "plt.scatter([item[0] for item in clst3[0]], [item[1] for item in clst3[0]], color=\"red\")\n",
    "plt.scatter([item[0] for item in clst3[1]], [item[1] for item in clst3[1]], color=\"blue\")\n",
    "plt.scatter([item[0] for item in clst3[2]], [item[1] for item in clst3[2]], color=\"green\")\n",
    "plt.scatter([item[0] for item in clst3[3]], [item[1] for item in clst3[3]], color=\"yellow\")\n",
    "plt.show()\n",
    "\n",
    "clst4 = K_means_family(data.to_numpy(), K=5, centroid_method=\"Means\", initialization_method=None, max_iterations=100)\n",
    "plt.scatter([item[0] for item in clst4[0]], [item[1] for item in clst4[0]], color=\"red\")\n",
    "plt.scatter([item[0] for item in clst4[1]], [item[1] for item in clst4[1]], color=\"blue\")\n",
    "plt.scatter([item[0] for item in clst4[2]], [item[1] for item in clst4[2]], color=\"green\")\n",
    "plt.scatter([item[0] for item in clst4[3]], [item[1] for item in clst4[3]], color=\"yellow\")\n",
    "plt.scatter([item[0] for item in clst4[4]], [item[1] for item in clst4[4]], color=\"black\")\n",
    "plt.show()\n",
    "\n",
    "score1 = Silhouette(clst1)\n",
    "score2 = Silhouette(clst2)\n",
    "score3 = Silhouette(clst3)\n",
    "score4 = Silhouette(clst4)\n",
    "\n",
    "print(\"silhouette score using k = 2: \", score1)\n",
    "print(\"silhouette score using k = 3: \", score2)\n",
    "print(\"silhouette score using k = 4: \", score3)\n",
    "print(\"silhouette score using k = 5: \", score4)\n",
    "\n",
    "print(\"Best silhouette score: \", max([score1, score2, score3, score4]))\n",
    "idx = np.argmax([score1, score2, score3, score4])\n",
    "print(\"Best K is: \", idx + 2)"
   ]
  },
  {
   "cell_type": "markdown",
   "metadata": {},
   "source": [
    "## BONUS！"
   ]
  },
  {
   "cell_type": "code",
   "execution_count": 21,
   "metadata": {},
   "outputs": [],
   "source": [
    "def distance_between_clusters(c1, c2, func_type):\n",
    "    if len(c1) == 0 or len(c2) == 0:\n",
    "        return None \n",
    "    distances = []\n",
    "    for pc1 in c1:\n",
    "        for pc2 in c2:\n",
    "            distances.append(distance_func(pc1, pc2))\n",
    "    if func_type == \"MIN\":\n",
    "        return min(distances)\n",
    "    elif func_type == \"MAX\":\n",
    "        return min(distances)\n",
    "    elif func_type == \"AVG\":\n",
    "        return sum(distances) / len(distances)\n",
    "    else:\n",
    "        return None\n",
    "\n",
    "\n",
    "def cal_diameters(clusters):\n",
    "    diameters = []\n",
    "    for c in clusters:\n",
    "        if len(c) <= 1:\n",
    "            diameters.append(0)\n",
    "        else:\n",
    "            distances = []\n",
    "            for i in range(len(c)):\n",
    "                for j in range(i + 1, len(c)):\n",
    "                    distances.append(distance_func(c[i], c[j]))\n",
    "            diameters.append(max(distances))\n",
    "                    \n",
    "    return diameters\n",
    "\n",
    "# MIN, MAX, AVG\n",
    "def HAC (datapoints, distance_function):\n",
    "    cluster_history = []\n",
    "    diameters = []\n",
    "    \n",
    "    clusters = [[point] for point in datapoints.tolist()]\n",
    "    cluster_history.append(clusters)\n",
    "    diameters.append(cal_diameters(clusters))\n",
    "    \n",
    "    # merge the closet two sets until there is only one cluster\n",
    "    while(len(clusters) > 1):\n",
    "        distances = {}\n",
    "        for i in range(len(clusters)):\n",
    "            for j in range(i + 1, len(clusters)):\n",
    "                distances[distance_between_clusters(clusters[i], clusters[j], distance_function)] = (i, j)\n",
    "                \n",
    "        shortest = min(distances.keys())\n",
    "        # merge\n",
    "        pick_c1_idx = distances[shortest][0]\n",
    "        pick_c2_idx = distances[shortest][1]\n",
    "        c1 = clusters[pick_c1_idx]\n",
    "        c2 = clusters[pick_c2_idx]\n",
    "        clusters = [clusters[k] for k in range(len(clusters)) if k != pick_c1_idx and k != pick_c2_idx] + [(c1 + c2)]\n",
    "        cluster_history.append(clusters.copy())\n",
    "        diameters.append(cal_diameters(clusters))\n",
    "        \n",
    "    return cluster_history, diameters"
   ]
  },
  {
   "cell_type": "code",
   "execution_count": 22,
   "metadata": {},
   "outputs": [],
   "source": [
    "# test it\n",
    "cluster_history, diameters = HAC(data.to_numpy(), \"AVG\")\n",
    "# Save the output of the algorithm to two files, one containing the clusters and the other the diameters.\n",
    "with open(\"cluster_history.txt\", \"w\") as f:\n",
    "    for line in cluster_history:\n",
    "        print(line, file=f) \n",
    "        \n",
    "with open(\"diameters.txt\", \"w\") as f:\n",
    "    for line in diameters:\n",
    "        print(line, file=f)\n",
    "        "
   ]
  },
  {
   "cell_type": "code",
   "execution_count": null,
   "metadata": {},
   "outputs": [],
   "source": []
  }
 ],
 "metadata": {
  "kernelspec": {
   "display_name": "Python 3",
   "language": "python",
   "name": "python3"
  },
  "language_info": {
   "codemirror_mode": {
    "name": "ipython",
    "version": 3
   },
   "file_extension": ".py",
   "mimetype": "text/x-python",
   "name": "python",
   "nbconvert_exporter": "python",
   "pygments_lexer": "ipython3",
   "version": "3.7.3"
  },
  "pycharm": {
   "stem_cell": {
    "cell_type": "raw",
    "metadata": {
     "collapsed": false
    },
    "source": [
     "\n",
     "\n"
    ]
   }
  }
 },
 "nbformat": 4,
 "nbformat_minor": 4
}
