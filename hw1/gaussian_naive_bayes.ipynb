{
 "cells": [
  {
   "cell_type": "code",
   "execution_count": 1,
   "metadata": {
    "collapsed": true,
    "pycharm": {
     "is_executing": false
    }
   },
   "outputs": [],
   "source": [
    "import pandas as pd\n",
    "import numpy as np\n",
    "import math"
   ]
  },
  {
   "cell_type": "markdown",
   "source": [
    "My own classifer"
   ],
   "metadata": {
    "collapsed": false,
    "pycharm": {
     "name": "#%% md\n"
    }
   }
  },
  {
   "cell_type": "code",
   "source": [
    "class MyGaussianBayes:\n",
    "    def __init__(self): \n",
    "        self.trainX = None\n",
    "        self.trainY = None\n",
    "        self.feature_cols = []\n",
    "        self.class_labels = []\n",
    "        # the Gaussian for calculating p(value|some_y_label)\n",
    "        # using dict{ylabel: pandas series}. The pandas series is {feature_col_name: p}\n",
    "        self.mean_dict = {}\n",
    "        self.stds_dict = {}\n",
    "        # probability of each y label (prior)\n",
    "        self.prob_label = {}\n",
    "        \n",
    "    \n",
    "    '''\n",
    "    fit is a training process\n",
    "    '''\n",
    "    def fit(self, trainX, trainY):\n",
    "        \"\"\"\n",
    "        :param trainX: Pandas DataFrame\n",
    "        :param trainY: Pandas DataFrame\n",
    "        :return: \n",
    "        \"\"\"\n",
    "        self.trainX = trainX\n",
    "        self.trainY = trainY\n",
    "        self.feature_cols = trainX.columns.tolist()\n",
    "        \n",
    "        y_unique_labels = self.trainY.unique()\n",
    "        total_num_rows = len(self.trainY)\n",
    "        \n",
    "        for possible_y in y_unique_labels:\n",
    "            self.class_labels.append(possible_y)\n",
    "            #y=0时的所有行构成的矩阵，第二遍取出y=1时所有行构成的矩阵\n",
    "            df_with_possible_y = self.trainX.loc[self.trainY == possible_y, :] \n",
    "            self.prob_label[possible_y] = len(df_with_possible_y) / total_num_rows\n",
    "            \n",
    "            means = df_with_possible_y.mean()\n",
    "            self.mean_dict[possible_y] = means\n",
    "            stds = df_with_possible_y.std()\n",
    "            self.stds_dict[possible_y] = stds\n",
    "    \n",
    "    '''calculate normal disribution'''\n",
    "    def normpdf(self, x, mean, sd):\n",
    "        var = float(sd)**2\n",
    "        denom = (2*math.pi*var)**.5\n",
    "        num = math.exp(-(float(x)-float(mean))**2/(2*var))\n",
    "        return num/denom\n",
    "            \n",
    "    def predict(self, testX):\n",
    "        predict_y = []\n",
    "        \n",
    "        for i in range(testX.shape[0]):\n",
    "            row = testX.iloc[i, :] #row is a series,like a dict\n",
    "            max_prob = 0\n",
    "            true_y = 0\n",
    "            for possible_y in self.class_labels:\n",
    "                prob_product = 1\n",
    "                prob_c = self.prob_label[possible_y]\n",
    "                for col_name in self.feature_cols:\n",
    "                    m = self.mean_dict[possible_y][col_name]\n",
    "                    s = self.stds_dict[possible_y][col_name]\n",
    "                    current_value = row[col_name]\n",
    "                    # if I need to call a class method in this class method, should apply self.method_name\n",
    "                    prob_feature = self.normpdf(current_value, m, s)\n",
    "                    prob_product *= prob_feature\n",
    "                prob_product *= prob_c\n",
    "                if prob_product > max_prob:\n",
    "                    max_prob = prob_product\n",
    "                    true_y = possible_y\n",
    "            predict_y.append(true_y)\n",
    "        return predict_y\n",
    "            \n",
    "                \n",
    "\n",
    "train_data = pd.read_csv(\"hw1_trainingset.csv\")\n",
    "test_data = pd.read_csv(\"hw1_testset.csv\")\n",
    "my_nb = MyGaussianBayes()\n",
    "my_nb.fit(\n",
    "    train_data.iloc[:, : -1],\n",
    "    train_data.iloc[:, -1]\n",
    ")\n",
    "\n",
    "predicted_y = my_nb.predict(test_data)\n",
    "\n",
    "test_data['Label'] = predicted_y\n",
    "test_data.to_csv(\"my_gaussian_bayes_predict_result.csv\")"
   ],
   "metadata": {
    "collapsed": false,
    "pycharm": {
     "name": "#%%\n",
     "is_executing": false
    }
   },
   "execution_count": 2,
   "outputs": []
  },
  {
   "cell_type": "markdown",
   "source": [
    "My own crossvalidation"
   ],
   "metadata": {
    "collapsed": false,
    "pycharm": {
     "name": "#%% md\n"
    }
   }
  },
  {
   "cell_type": "code",
   "execution_count": 3,
   "outputs": [
    {
     "name": "stdout",
     "text": [
      "The cv scores from my cross validation is [0.3483483483483483, 0.3493975903614458, 0.32, 0.2874251497005988, 0.3861671469740634, 0.31347962382445144, 0.3323442136498516, 0.31736526946107785, 0.2546583850931677, 0.3177570093457944] and the average is 0.3226942736758799\n"
     ],
     "output_type": "stream"
    }
   ],
   "source": [
    "from cross_validation import my_cross_validation\n",
    "scores = my_cross_validation(MyGaussianBayes, train_data.iloc[:, : -1], train_data.iloc[:, -1], 10)\n",
    "print(\"The cv scores from my cross validation is \" + str(scores) + \" and the average is \" \n",
    "      + str(sum(scores) / len(scores)) )"
   ],
   "metadata": {
    "collapsed": false,
    "pycharm": {
     "name": "#%%\n",
     "is_executing": false
    }
   }
  },
  {
   "cell_type": "markdown",
   "source": [
    "Using sklean"
   ],
   "metadata": {
    "collapsed": false,
    "pycharm": {
     "name": "#%% md\n"
    }
   }
  },
  {
   "cell_type": "code",
   "execution_count": 4,
   "outputs": [
    {
     "name": "stdout",
     "text": [
      "The cv scores from sklearn is [0.33038348 0.28025478 0.34131737 0.3313253  0.31858407 0.28037383\n 0.3081571  0.34636872 0.29878049 0.32615385] and the average is 0.31616989756828723\n"
     ],
     "output_type": "stream"
    }
   ],
   "source": [
    "from sklearn.naive_bayes import GaussianNB\n",
    "from sklearn.model_selection import cross_val_score\n",
    "train_data = pd.read_csv(\"hw1_trainingset.csv\")\n",
    "test_data = pd.read_csv(\"hw1_testset.csv\")\n",
    "\n",
    "train_data = train_data.sample(frac=1, random_state=42)\n",
    "trainX = train_data.iloc[:, : -1]\n",
    "trainY = train_data.iloc[:, -1]\n",
    "\n",
    "clf = GaussianNB()\n",
    "clf.fit(trainX, trainY)\n",
    "\n",
    "testX = test_data\n",
    "predicted_y = clf.predict(testX)\n",
    "test_data['Label'] = predicted_y\n",
    "test_data.to_csv(\"sklearn_gaussian_bayes_predict_result.csv\")\n",
    "\n",
    "scores = cross_val_score(GaussianNB(), trainX, trainY,\n",
    "                scoring=\"f1\",\n",
    "                cv=10)\n",
    "\n",
    "print(\"The cv scores from sklearn is \" + str(scores) + \" and the average is \" \n",
    "      + str(sum(scores) / len(scores)) )"
   ],
   "metadata": {
    "collapsed": false,
    "pycharm": {
     "name": "#%%\n",
     "is_executing": false
    }
   }
  },
  {
   "cell_type": "code",
   "execution_count": 4,
   "outputs": [],
   "source": [],
   "metadata": {
    "collapsed": false,
    "pycharm": {
     "name": "#%%\n",
     "is_executing": false
    }
   }
  },
  {
   "cell_type": "markdown",
   "source": [
    "\n"
   ],
   "metadata": {
    "collapsed": false
   }
  }
 ],
 "metadata": {
  "kernelspec": {
   "display_name": "Python 3",
   "language": "python",
   "name": "python3"
  },
  "language_info": {
   "codemirror_mode": {
    "name": "ipython",
    "version": 2
   },
   "file_extension": ".py",
   "mimetype": "text/x-python",
   "name": "python",
   "nbconvert_exporter": "python",
   "pygments_lexer": "ipython2",
   "version": "2.7.6"
  },
  "pycharm": {
   "stem_cell": {
    "cell_type": "raw",
    "source": [],
    "metadata": {
     "collapsed": false
    }
   }
  }
 },
 "nbformat": 4,
 "nbformat_minor": 0
}